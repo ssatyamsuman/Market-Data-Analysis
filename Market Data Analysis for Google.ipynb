
# Importing all the essential Python libraries

import numpy as np
import pandas as pd
from pandas import Series, DataFrame
import seaborn as sns
import matplotlib.pyplot as plt
%matplotlib inline
sns.set_style('whitegrid')
# Importing Stock market data from the Internet

from pandas.io.data import DataReader
/home/ssatyamsuman/anaconda3/lib/python3.5/site-packages/pandas/io/data.py:33: FutureWarning: 
The pandas.io.data module is moved to a separate package (pandas-datareader) and will be removed from pandas in a future version.
After installing the pandas-datareader package (https://github.com/pydata/pandas-datareader), you can change the import ``from pandas.io import data, wb`` to ``from pandas_datareader import data, wb``.
  FutureWarning)
# Importing datetime for setting start and end date of the stock market dataset

from datetime import datetime
# Setting the Start and End date for Stock Market Analysis

end = datetime.now()
start = datetime(end.year-1,end.month,end.day)
# Importing Google Stock Prices

GOOG = DataReader('GOOG','yahoo',start,end)
# Some Basic info about the Google Stock

GOOG.describe()
Open	High	Low	Close	Volume	Adj Close
count	251.000000	251.000000	251.000000	251.000000	251.000000	251.000000
mean	599.040813	604.385263	593.109714	598.958634	2070853.386454	598.958634
std	79.104212	80.150409	77.928301	79.142804	1067750.821652	79.142804
min	494.652237	495.978261	487.562205	492.552209	527200.000000	492.552209
25%	535.447437	538.804993	530.590485	535.306194	1484100.000000	535.306194
50%	560.532559	565.848999	556.147548	559.502513	1826000.000000	559.502513
75%	649.119995	657.806000	642.315002	646.750000	2257250.000000	646.750000
max	768.900024	775.955017	758.960022	767.039978	11164900.000000	767.039978
# Plotting Adjusted Closing price for Google Stock

GOOG['Adj Close'].plot(legend=True,figsize=(10,4))
<matplotlib.axes._subplots.AxesSubplot at 0x7f514b210a58>

# Total volume of stock being traded each day

GOOG['Volume'].plot(legend=True,figsize=(10,4))
<matplotlib.axes._subplots.AxesSubplot at 0x7f514a8d45f8>

# Calculating Moving average for 10, 20 and 50 days of the stock price

ma_day = [10,20,50]

for ma in ma_day:
    column_name = "MA for %s days" %(str(ma))
    
    GOOG[column_name] = pd.rolling_mean(GOOG['Adj Close'],ma)
# Plotting the moving averages

GOOG[['Adj Close', 'MA for 10 days','MA for 20 days','MA for 50 days']].plot(subplots=False,figsize=(10,4))
<matplotlib.axes._subplots.AxesSubplot at 0x7f514b22af28>

# Plotting Daily returns as a function of Percent change in Adjusted Close value

GOOG['Daily Return'] = GOOG['Adj Close'].pct_change()

GOOG['Daily Return'].plot(legend=True)
<matplotlib.axes._subplots.AxesSubplot at 0x7f51470661d0>

# Plotting the average daily returns of the stock

sns.distplot(GOOG['Daily Return'].dropna(),bins=100)
<matplotlib.axes._subplots.AxesSubplot at 0x7f51456f7eb8>

# Risk Analysis --  Comparing the Risk vs Expected returns

rets = GOOG['Daily Return'].dropna()

area = np.pi*15

plt.scatter(rets.mean(),rets.std(),s=area)

plt.xlabel('Expected Returns')
plt.ylabel('Risk')
<matplotlib.text.Text at 0x7f51454f0e80>
/home/ssatyamsuman/anaconda3/lib/python3.5/site-packages/matplotlib/collections.py:590: FutureWarning: elementwise comparison failed; returning scalar instead, but in the future will perform elementwise comparison
  if self._edgecolors == str('face'):

# Visualizing the Value at Risk

sns.distplot(GOOG['Daily Return'].dropna(),bins=100)
<matplotlib.axes._subplots.AxesSubplot at 0x7f51454c5668>

# Using Quantiles and the Bootstrap Method to calculate the numerical risk of the stock

GOOG['Daily Return'].quantile(0.05)
-0.021263418021489001
## Monte Carlo Simulation

days = 365

dt = 1/days

mu = rets.mean()

sigma = rets.std()
# Defining the Monte Carlo Simulation Function

def stock_monte_carlo(start_price,days,mu,sigma):
    
    price = np.zeros(days)
    price[0] = start_price
    
    shock = np.zeros(days)
    drift = np.zeros(days)
    
    for x in range(1,days):
        shock[x] = np.random.normal(loc=mu*dt,scale=sigma*np.sqrt(dt))
        
        drift[x] = mu * dt
        
        price[x] = price[x-1] + (price[x-1]* (drift[x] + shock[x]))
        
    return price
GOOG.head()
Open	High	Low	Close	Volume	Adj Close	MA for 10 days	MA for 20 days	MA for 50 days	Daily Return
Date										
2014-12-29	532.192446	535.482414	530.013375	530.332426	2278500	530.332426	NaN	NaN	NaN	NaN
2014-12-30	528.092396	531.152424	527.132366	530.422394	876300	530.422394	NaN	NaN	NaN	0.000170
2014-12-31	531.252429	532.602384	525.802363	526.402397	1368200	526.402397	NaN	NaN	NaN	-0.007579
2015-01-02	529.012399	531.272443	524.102327	524.812404	1447600	524.812404	NaN	NaN	NaN	-0.003020
2015-01-05	523.262377	524.332389	513.062315	513.872306	2059800	513.872306	NaN	NaN	NaN	-0.020846
# Running the Monte Carlo simulation a hundred times

start_price = 532.192446

for run in range(100):
    plt.plot(stock_monte_carlo(start_price,days,mu,sigma))
    
plt.xlabel('Days')
plt.ylabel('Price')
plt.title('Monte Carlo Simulation for Google')
<matplotlib.text.Text at 0x7f51452756d8>

# Analysing the Monte Carlo Simulation for 10,000 simulations

runs = 10000

simulations = np.zeros(runs)

for run in range(runs):
    simulations[run] = stock_monte_carlo(start_price,days,mu,sigma)[days-1]
    
# 1 percent impirical quantile or 99% Confidence Interval

q = np.percentile(simulations,1)
# Plotting the final Risk Analysis plot using Monte Carlo Simulation

plt.hist(simulations,bins=200)

plt.figtext(0.6, 0.8, s="Start price: $%.2f" %start_price)
# Mean ending price
plt.figtext(0.6, 0.7, "Mean final price: $%.2f" % simulations.mean())

# Variance of the price (within 99% confidence interval)
plt.figtext(0.6, 0.6, "VaR(0.99): $%.2f" % (start_price - q,))

# Display 1% quantile
plt.figtext(0.15, 0.6, "q(0.99): $%.2f" % q)

# Plot a line at the 1% quantile result
plt.axvline(x=q, linewidth=4, color='r')

# Title
plt.title(u"Final price distribution for Google Stock after %s days" % days, weight='bold');

 
 
 
 
